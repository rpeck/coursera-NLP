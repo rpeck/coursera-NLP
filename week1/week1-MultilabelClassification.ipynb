{
  "nbformat": 4,
  "nbformat_minor": 0,
  "metadata": {
    "colab": {
      "name": "week1-MultilabelClassification.ipynb",
      "version": "0.3.2",
      "provenance": [],
      "include_colab_link": true
    },
    "kernelspec": {
      "display_name": "Python 3",
      "language": "python",
      "name": "python3"
    },
    "accelerator": "GPU"
  },
  "cells": [
    {
      "cell_type": "markdown",
      "metadata": {
        "id": "view-in-github",
        "colab_type": "text"
      },
      "source": [
        "[View in Colaboratory](https://colab.research.google.com/github/rpeck/coursera-NLP/blob/master/week1/week1-MultilabelClassification.ipynb)"
      ]
    },
    {
      "metadata": {
        "id": "a5D2T5zbXBhB",
        "colab_type": "text"
      },
      "cell_type": "markdown",
      "source": [
        "# Predict tags on StackOverflow with linear models"
      ]
    },
    {
      "metadata": {
        "id": "VngzwYNWXBhE",
        "colab_type": "text"
      },
      "cell_type": "markdown",
      "source": [
        "In this assignment you will learn how to predict tags for posts from [StackOverflow](https://stackoverflow.com). To solve this task you will use multilabel classification approach.\n",
        "\n",
        "### Libraries\n",
        "\n",
        "In this task you will need the following libraries:\n",
        "- [Numpy](http://www.numpy.org) — a package for scientific computing.\n",
        "- [Pandas](https://pandas.pydata.org) — a library providing high-performance, easy-to-use data structures and data analysis tools for the Python\n",
        "- [scikit-learn](http://scikit-learn.org/stable/index.html) — a tool for data mining and data analysis.\n",
        "- [NLTK](http://www.nltk.org) — a platform to work with natural language."
      ]
    },
    {
      "metadata": {
        "id": "BO-26qhCXBhE",
        "colab_type": "text"
      },
      "cell_type": "markdown",
      "source": [
        "### Data\n",
        "\n",
        "The following cell will download all data required for this assignment into the folder `week1/data`."
      ]
    },
    {
      "metadata": {
        "id": "zX108TEqXBhF",
        "colab_type": "code",
        "colab": {
          "base_uri": "https://localhost:8080/",
          "height": 122
        },
        "outputId": "bf7419c0-6edb-4d01-c59c-be7d33e31dd2"
      },
      "cell_type": "code",
      "source": [
        "! wget https://raw.githubusercontent.com/hse-aml/natural-language-processing/master/setup_google_colab.py -O setup_google_colab.py\n",
        "import setup_google_colab\n",
        "setup_google_colab.setup_week1()  # change to the week you're working on\n",
        "\n",
        "import sys\n",
        "sys.path.append(\"..\")\n",
        "from common.download_utils import download_week1_resources\n",
        "\n",
        "download_week1_resources()"
      ],
      "execution_count": 7,
      "outputs": [
        {
          "output_type": "stream",
          "text": [
            "\n",
            "Redirecting output to ‘wget-log.2’.\n",
            "File data/train.tsv is already downloaded.\n",
            "File data/validation.tsv is already downloaded.\n",
            "File data/test.tsv is already downloaded.\n",
            "File data/text_prepare_tests.tsv is already downloaded.\n"
          ],
          "name": "stdout"
        }
      ]
    },
    {
      "metadata": {
        "id": "1vfGOlmMXBhJ",
        "colab_type": "text"
      },
      "cell_type": "markdown",
      "source": [
        "### Grading\n",
        "We will create a grader instance below and use it to collect your answers. Note that these outputs will be stored locally inside grader and will be uploaded to platform only after running submitting function in the last part of this assignment. If you want to make partial submission, you can run that cell any time you want."
      ]
    },
    {
      "metadata": {
        "id": "KAfIRRPmXBhJ",
        "colab_type": "code",
        "colab": {}
      },
      "cell_type": "code",
      "source": [
        "from grader import Grader"
      ],
      "execution_count": 0,
      "outputs": []
    },
    {
      "metadata": {
        "id": "46nohOoSXBhM",
        "colab_type": "code",
        "colab": {}
      },
      "cell_type": "code",
      "source": [
        "grader = Grader()"
      ],
      "execution_count": 0,
      "outputs": []
    },
    {
      "metadata": {
        "id": "l_-Th34EXBhP",
        "colab_type": "text"
      },
      "cell_type": "markdown",
      "source": [
        "### Text preprocessing"
      ]
    },
    {
      "metadata": {
        "id": "iPLD5aLaXBhP",
        "colab_type": "text"
      },
      "cell_type": "markdown",
      "source": [
        "For this and most of the following assignments you will need to use a list of stop words. It can be downloaded from *nltk*:"
      ]
    },
    {
      "metadata": {
        "id": "cS5e1LU0XBhQ",
        "colab_type": "code",
        "colab": {
          "base_uri": "https://localhost:8080/",
          "height": 52
        },
        "outputId": "4c2ab6e1-8d9d-4809-af23-880bc6cf104f"
      },
      "cell_type": "code",
      "source": [
        "import nltk\n",
        "nltk.download('stopwords')\n",
        "from nltk.corpus import stopwords"
      ],
      "execution_count": 10,
      "outputs": [
        {
          "output_type": "stream",
          "text": [
            "[nltk_data] Downloading package stopwords to /root/nltk_data...\n",
            "[nltk_data]   Package stopwords is already up-to-date!\n"
          ],
          "name": "stdout"
        }
      ]
    },
    {
      "metadata": {
        "id": "Ds5OfE3yXBhT",
        "colab_type": "text"
      },
      "cell_type": "markdown",
      "source": [
        "In this task you will deal with a dataset of post titles from StackOverflow. You are provided a split to 3 sets: *train*, *validation* and *test*. All corpora (except for *test*) contain titles of the posts and corresponding tags (100 tags are available). The *test* set is provided for Coursera's grading and doesn't contain answers. Upload the corpora using *pandas* and look at the data:"
      ]
    },
    {
      "metadata": {
        "id": "C78Z7FbwXBhT",
        "colab_type": "code",
        "colab": {}
      },
      "cell_type": "code",
      "source": [
        "from ast import literal_eval\n",
        "import pandas as pd\n",
        "import numpy as np"
      ],
      "execution_count": 0,
      "outputs": []
    },
    {
      "metadata": {
        "id": "VZEa4DDiXBhX",
        "colab_type": "code",
        "colab": {}
      },
      "cell_type": "code",
      "source": [
        "def read_data(filename):\n",
        "    data = pd.read_csv(filename, sep='\\t')\n",
        "    data['tags'] = data['tags'].apply(literal_eval)\n",
        "    return data"
      ],
      "execution_count": 0,
      "outputs": []
    },
    {
      "metadata": {
        "id": "nZhtVKAVXBha",
        "colab_type": "code",
        "colab": {}
      },
      "cell_type": "code",
      "source": [
        "train = read_data('data/train.tsv')\n",
        "validation = read_data('data/validation.tsv')\n",
        "test = pd.read_csv('data/test.tsv', sep='\\t')"
      ],
      "execution_count": 0,
      "outputs": []
    },
    {
      "metadata": {
        "id": "_LIns4YyXBhf",
        "colab_type": "code",
        "colab": {
          "base_uri": "https://localhost:8080/",
          "height": 204
        },
        "outputId": "c6e63556-9e51-4dc2-ccc0-60d2e8be7a3b"
      },
      "cell_type": "code",
      "source": [
        "train.head()"
      ],
      "execution_count": 14,
      "outputs": [
        {
          "output_type": "execute_result",
          "data": {
            "text/html": [
              "<div>\n",
              "<style scoped>\n",
              "    .dataframe tbody tr th:only-of-type {\n",
              "        vertical-align: middle;\n",
              "    }\n",
              "\n",
              "    .dataframe tbody tr th {\n",
              "        vertical-align: top;\n",
              "    }\n",
              "\n",
              "    .dataframe thead th {\n",
              "        text-align: right;\n",
              "    }\n",
              "</style>\n",
              "<table border=\"1\" class=\"dataframe\">\n",
              "  <thead>\n",
              "    <tr style=\"text-align: right;\">\n",
              "      <th></th>\n",
              "      <th>title</th>\n",
              "      <th>tags</th>\n",
              "    </tr>\n",
              "  </thead>\n",
              "  <tbody>\n",
              "    <tr>\n",
              "      <th>0</th>\n",
              "      <td>How to draw a stacked dotplot in R?</td>\n",
              "      <td>[r]</td>\n",
              "    </tr>\n",
              "    <tr>\n",
              "      <th>1</th>\n",
              "      <td>mysql select all records where a datetime fiel...</td>\n",
              "      <td>[php, mysql]</td>\n",
              "    </tr>\n",
              "    <tr>\n",
              "      <th>2</th>\n",
              "      <td>How to terminate windows phone 8.1 app</td>\n",
              "      <td>[c#]</td>\n",
              "    </tr>\n",
              "    <tr>\n",
              "      <th>3</th>\n",
              "      <td>get current time in a specific country via jquery</td>\n",
              "      <td>[javascript, jquery]</td>\n",
              "    </tr>\n",
              "    <tr>\n",
              "      <th>4</th>\n",
              "      <td>Configuring Tomcat to Use SSL</td>\n",
              "      <td>[java]</td>\n",
              "    </tr>\n",
              "  </tbody>\n",
              "</table>\n",
              "</div>"
            ],
            "text/plain": [
              "                                               title                  tags\n",
              "0                How to draw a stacked dotplot in R?                   [r]\n",
              "1  mysql select all records where a datetime fiel...          [php, mysql]\n",
              "2             How to terminate windows phone 8.1 app                  [c#]\n",
              "3  get current time in a specific country via jquery  [javascript, jquery]\n",
              "4                      Configuring Tomcat to Use SSL                [java]"
            ]
          },
          "metadata": {
            "tags": []
          },
          "execution_count": 14
        }
      ]
    },
    {
      "metadata": {
        "id": "jLX2_4L7XBhh",
        "colab_type": "text"
      },
      "cell_type": "markdown",
      "source": [
        "As you can see, *title* column contains titles of the posts and *tags* column contains the tags. It could be noticed that a number of tags for a post is not fixed and could be as many as necessary."
      ]
    },
    {
      "metadata": {
        "id": "noNDRyM0XBhi",
        "colab_type": "text"
      },
      "cell_type": "markdown",
      "source": [
        "For a more comfortable usage, initialize *X_train*, *X_val*, *X_test*, *y_train*, *y_val*."
      ]
    },
    {
      "metadata": {
        "id": "XfuocDOLXBhi",
        "colab_type": "code",
        "colab": {}
      },
      "cell_type": "code",
      "source": [
        "X_train, y_train = train['title'].values, train['tags'].values\n",
        "X_val, y_val = validation['title'].values, validation['tags'].values\n",
        "X_test = test['title'].values"
      ],
      "execution_count": 0,
      "outputs": []
    },
    {
      "metadata": {
        "id": "F8kDGmI7XBhm",
        "colab_type": "text"
      },
      "cell_type": "markdown",
      "source": [
        "One of the most known difficulties when working with natural data is that it's unstructured. For example, if you use it \"as is\" and extract tokens just by splitting the titles by whitespaces, you will see that there are many \"weird\" tokens like *3.5?*, *\"Flip*, etc. To prevent the problems, it's usually useful to prepare the data somehow. In this task you'll write a function, which will be also used in the other assignments. \n",
        "\n",
        "**Task 1 (TextPrepare).** Implement the function *text_prepare* following the instructions. After that, run the function *test_test_prepare* to test it on tiny cases and submit it to Coursera."
      ]
    },
    {
      "metadata": {
        "id": "AgsTHpQ_XBhm",
        "colab_type": "code",
        "colab": {}
      },
      "cell_type": "code",
      "source": [
        "import re"
      ],
      "execution_count": 0,
      "outputs": []
    },
    {
      "metadata": {
        "id": "PU1bH5ebXBhq",
        "colab_type": "code",
        "colab": {}
      },
      "cell_type": "code",
      "source": [
        "REPLACE_BY_SPACE_RE = re.compile('[/(){}\\[\\]\\|@,;]')\n",
        "BAD_SYMBOLS_RE = re.compile('[^0-9a-z #+_]')\n",
        "STOPWORDS = set(stopwords.words('english'))\n",
        "\n",
        "def text_prepare(text):\n",
        "    \"\"\"\n",
        "        text: a string\n",
        "        \n",
        "        return: modified initial string\n",
        "    \"\"\"\n",
        "    text = text.lower()  # lowercase text\n",
        "    text = re.sub(REPLACE_BY_SPACE_RE, ' ', text) # replace REPLACE_BY_SPACE_RE symbols by space in text\n",
        "    text = re.sub(BAD_SYMBOLS_RE, '', text) # delete symbols which are in BAD_SYMBOLS_RE from text\n",
        "    text = \" \".join(filter (lambda x: x not in STOPWORDS, text.split())) # delete stopwords from text\n",
        "    return text"
      ],
      "execution_count": 0,
      "outputs": []
    },
    {
      "metadata": {
        "id": "HKRRlO7BXBhs",
        "colab_type": "code",
        "colab": {}
      },
      "cell_type": "code",
      "source": [
        "def test_text_prepare():\n",
        "    examples = [\"SQL Server - any equivalent of Excel's CHOOSE function?\",\n",
        "                \"How to free c++ memory vector<int> * arr?\"]\n",
        "    answers = [\"sql server equivalent excels choose function\", \n",
        "               \"free c++ memory vectorint arr\"]\n",
        "    for ex, ans in zip(examples, answers):\n",
        "        if text_prepare(ex) != ans:\n",
        "            return \"Wrong answer for the case: '%s'\" % ex\n",
        "    return 'Basic tests are passed.'"
      ],
      "execution_count": 0,
      "outputs": []
    },
    {
      "metadata": {
        "id": "ZIGFDeyuXBhu",
        "colab_type": "code",
        "colab": {
          "base_uri": "https://localhost:8080/",
          "height": 34
        },
        "outputId": "2f2a3495-edfd-40ed-8dcf-8e7c66daaa64"
      },
      "cell_type": "code",
      "source": [
        "print(test_text_prepare())"
      ],
      "execution_count": 31,
      "outputs": [
        {
          "output_type": "stream",
          "text": [
            "Basic tests are passed.\n"
          ],
          "name": "stdout"
        }
      ]
    },
    {
      "metadata": {
        "id": "f3TtvOm_XBhy",
        "colab_type": "text"
      },
      "cell_type": "markdown",
      "source": [
        "Run your implementation for questions from file *text_prepare_tests.tsv* to earn the points."
      ]
    },
    {
      "metadata": {
        "id": "7uZOVtIzXBhy",
        "colab_type": "code",
        "colab": {
          "base_uri": "https://localhost:8080/",
          "height": 104
        },
        "outputId": "19d402fc-4bad-4769-9e01-ff60b3a786de"
      },
      "cell_type": "code",
      "source": [
        "prepared_questions = []\n",
        "for line in open('data/text_prepare_tests.tsv', encoding='utf-8'):\n",
        "    line = text_prepare(line.strip())\n",
        "    prepared_questions.append(line)\n",
        "text_prepare_results = '\\n'.join(prepared_questions)\n",
        "\n",
        "grader.submit_tag('TextPrepare', text_prepare_results)"
      ],
      "execution_count": 32,
      "outputs": [
        {
          "output_type": "stream",
          "text": [
            "Current answer for task TextPrepare is:\n",
            " sqlite php readonly\n",
            "creating multiple textboxes dynamically\n",
            "self one prefer javascript\n",
            "save php date...\n"
          ],
          "name": "stdout"
        }
      ]
    },
    {
      "metadata": {
        "id": "6a66QzlTXBh0",
        "colab_type": "text"
      },
      "cell_type": "markdown",
      "source": [
        "Now we can preprocess the titles using function *text_prepare* and  making sure that the headers don't have bad symbols:"
      ]
    },
    {
      "metadata": {
        "id": "Yz6a53voXBh2",
        "colab_type": "code",
        "colab": {}
      },
      "cell_type": "code",
      "source": [
        "X_train = [text_prepare(x) for x in X_train]\n",
        "X_val = [text_prepare(x) for x in X_val]\n",
        "X_test = [text_prepare(x) for x in X_test]"
      ],
      "execution_count": 0,
      "outputs": []
    },
    {
      "metadata": {
        "id": "yz6nyysuXBh8",
        "colab_type": "code",
        "colab": {
          "base_uri": "https://localhost:8080/",
          "height": 69
        },
        "outputId": "759ebd15-3c64-4c1d-e22a-46e67b990ea8"
      },
      "cell_type": "code",
      "source": [
        "X_train[:3]"
      ],
      "execution_count": 34,
      "outputs": [
        {
          "output_type": "execute_result",
          "data": {
            "text/plain": [
              "['draw stacked dotplot r',\n",
              " 'mysql select records datetime field less specified value',\n",
              " 'terminate windows phone 81 app']"
            ]
          },
          "metadata": {
            "tags": []
          },
          "execution_count": 34
        }
      ]
    },
    {
      "metadata": {
        "id": "BjnQXeHaXBiA",
        "colab_type": "text"
      },
      "cell_type": "markdown",
      "source": [
        "For each tag and for each word calculate how many times they occur in the train corpus. \n",
        "\n",
        "**Task 2 (WordsTagsCount).** Find 3 most popular tags and 3 most popular words in the train data and submit the results to earn the points."
      ]
    },
    {
      "metadata": {
        "id": "HBl-gmifXBiA",
        "colab_type": "code",
        "colab": {
          "base_uri": "https://localhost:8080/",
          "height": 17534
        },
        "outputId": "8509b0f4-cacc-44cb-c22a-db6c3103a8f9"
      },
      "cell_type": "code",
      "source": [
        "# Dictionary of all tags from train corpus with their counts.\n",
        "tags_counts = {}\n",
        "# Dictionary of all words from train corpus with their counts.\n",
        "words_counts = {}\n",
        "# X_train[1]\n",
        "# y_train[1]\n",
        "for taglist in y_train:\n",
        "  for tag in taglist:\n",
        "    if tag in tags_counts:\n",
        "      tags_counts[tag] += 1\n",
        "    else:\n",
        "      tags_counts[tag] = 1\n",
        "for wordlist in X_train:\n",
        "  for word in wordlist.split():\n",
        "    if word in words_counts:\n",
        "      words_counts[word] += 1\n",
        "    else:\n",
        "      words_counts[word] = 1\n",
        "# words_counts\n",
        "\n"
      ],
      "execution_count": 67,
      "outputs": [
        {
          "output_type": "execute_result",
          "data": {
            "text/plain": [
              "{'draw': 173,\n",
              " 'stacked': 20,\n",
              " 'dotplot': 1,\n",
              " 'r': 896,\n",
              " 'mysql': 1572,\n",
              " 'select': 980,\n",
              " 'records': 175,\n",
              " 'datetime': 363,\n",
              " 'field': 778,\n",
              " 'less': 79,\n",
              " 'specified': 162,\n",
              " 'value': 3175,\n",
              " 'terminate': 33,\n",
              " 'windows': 1339,\n",
              " 'phone': 223,\n",
              " '81': 59,\n",
              " 'app': 1116,\n",
              " 'get': 4301,\n",
              " 'current': 523,\n",
              " 'time': 1213,\n",
              " 'specific': 691,\n",
              " 'country': 37,\n",
              " 'via': 590,\n",
              " 'jquery': 3293,\n",
              " 'configuring': 32,\n",
              " 'tomcat': 255,\n",
              " 'use': 2422,\n",
              " 'ssl': 145,\n",
              " 'awesome': 7,\n",
              " 'nested': 446,\n",
              " 'set': 1640,\n",
              " 'plugin': 270,\n",
              " 'add': 1611,\n",
              " 'new': 931,\n",
              " 'children': 79,\n",
              " 'tree': 209,\n",
              " 'various': 27,\n",
              " 'levels': 25,\n",
              " 'create': 1757,\n",
              " 'map': 496,\n",
              " 'json': 1557,\n",
              " 'response': 396,\n",
              " 'ruby': 1164,\n",
              " 'rails': 1778,\n",
              " '3': 641,\n",
              " 'rspec': 144,\n",
              " 'test': 540,\n",
              " 'method': 2123,\n",
              " 'called': 316,\n",
              " 'springboot': 27,\n",
              " 'catalina': 3,\n",
              " 'lifecycle': 9,\n",
              " 'exception': 944,\n",
              " 'import': 354,\n",
              " 'data': 3298,\n",
              " 'excel': 540,\n",
              " 'database': 1631,\n",
              " 'using': 8278,\n",
              " 'php': 5614,\n",
              " 'obtaining': 15,\n",
              " 'object': 2646,\n",
              " 'javalangclasst': 1,\n",
              " 'parameterized': 17,\n",
              " 'type': 1699,\n",
              " 'without': 1369,\n",
              " 'constructing': 8,\n",
              " 'class': 2558,\n",
              " 'q_uestion': 1,\n",
              " 'ipad': 82,\n",
              " 'selecting': 125,\n",
              " 'text': 1929,\n",
              " 'inside': 947,\n",
              " 'input': 1120,\n",
              " 'tap': 20,\n",
              " 'jquerys': 22,\n",
              " 'function': 2896,\n",
              " 'eclipse': 624,\n",
              " 'c++': 2312,\n",
              " 'mingw': 39,\n",
              " 'lauch': 1,\n",
              " 'program': 584,\n",
              " 'terminated': 19,\n",
              " 'javascript': 4746,\n",
              " 'call': 1261,\n",
              " 'one': 1370,\n",
              " 'prototype': 71,\n",
              " 'another': 1115,\n",
              " 'intersection': 17,\n",
              " 'list': 2137,\n",
              " 'sets': 57,\n",
              " 'longer': 40,\n",
              " 'able': 103,\n",
              " 'hide': 363,\n",
              " 'keyboard': 123,\n",
              " 'viewwilldisappear': 2,\n",
              " 'ios7': 26,\n",
              " 'fetch': 142,\n",
              " 'key': 776,\n",
              " 'swift': 934,\n",
              " 'change': 1441,\n",
              " 'pivot': 26,\n",
              " 'header': 460,\n",
              " 'template': 468,\n",
              " '8': 273,\n",
              " 'connectionstring': 14,\n",
              " 'encryption': 72,\n",
              " 'let': 26,\n",
              " 'ui': 289,\n",
              " 'refresh': 308,\n",
              " 'long': 235,\n",
              " 'running': 587,\n",
              " 'operation': 121,\n",
              " 'better': 128,\n",
              " 'way': 1454,\n",
              " 'execute': 318,\n",
              " 'file': 5055,\n",
              " 'python': 4073,\n",
              " 'console': 362,\n",
              " 'output': 535,\n",
              " 'run': 776,\n",
              " 'make': 1127,\n",
              " '2': 795,\n",
              " 'thumbnails': 25,\n",
              " 'codeigniter': 625,\n",
              " 'java': 5501,\n",
              " 'character': 529,\n",
              " 'vs': 812,\n",
              " 'char': 440,\n",
              " 'memory': 606,\n",
              " 'usage': 137,\n",
              " 'bootstrap': 435,\n",
              " 'modal': 227,\n",
              " 'close': 262,\n",
              " 'enter': 100,\n",
              " 'press': 58,\n",
              " 'linq': 736,\n",
              " 'query': 972,\n",
              " 'group': 281,\n",
              " 'retrieving': 112,\n",
              " 'percentage': 47,\n",
              " 'label': 226,\n",
              " 'issue': 576,\n",
              " 'openerp': 15,\n",
              " 'keep': 193,\n",
              " 'objects': 867,\n",
              " 'view': 1004,\n",
              " 'scaling': 13,\n",
              " 'zy': 1,\n",
              " 'axis': 101,\n",
              " 'attributeerror': 63,\n",
              " 'nonetype': 32,\n",
              " 'attribute': 571,\n",
              " 'split': 330,\n",
              " 'append': 188,\n",
              " 'mat': 23,\n",
              " 'scipyiosavemat': 1,\n",
              " 'replace': 460,\n",
              " 'onclick': 323,\n",
              " 'hcommandlink': 2,\n",
              " 'redirect': 390,\n",
              " 'programme': 7,\n",
              " 'accesscontrolalloworigin': 21,\n",
              " 'present': 69,\n",
              " 'requested': 59,\n",
              " 'resource': 256,\n",
              " 'error': 4388,\n",
              " 'creating': 794,\n",
              " 'c#': 4188,\n",
              " 'ijsonvalue': 1,\n",
              " 'cannot': 1314,\n",
              " 'implicitly': 41,\n",
              " 'convert': 1586,\n",
              " 'string': 3652,\n",
              " 'windowsdatajsonijsonvalue': 1,\n",
              " 'django': 1373,\n",
              " 'modelform': 28,\n",
              " 'captialisation': 1,\n",
              " 'show': 695,\n",
              " 'div': 733,\n",
              " 'slide': 56,\n",
              " 'avoid': 157,\n",
              " 'busy': 9,\n",
              " 'spinning': 3,\n",
              " 'laravel': 561,\n",
              " '4': 450,\n",
              " 'inputall': 3,\n",
              " 'returns': 416,\n",
              " 'ajax': 1248,\n",
              " 'post': 806,\n",
              " 'handle': 285,\n",
              " 'neterr_connection_refused': 2,\n",
              " 'year': 110,\n",
              " 'retrofit': 21,\n",
              " 'singleton': 94,\n",
              " 'gson': 53,\n",
              " 'convertor': 3,\n",
              " 'settimer': 3,\n",
              " 'nondialog': 1,\n",
              " 'cpp': 24,\n",
              " 'mfc': 54,\n",
              " 'copying': 76,\n",
              " 'web': 1129,\n",
              " 'reference': 581,\n",
              " 'project': 717,\n",
              " 'top': 192,\n",
              " 'five': 10,\n",
              " 'insert': 636,\n",
              " 'index': 480,\n",
              " 'apache': 281,\n",
              " 'poi': 90,\n",
              " 'page': 1847,\n",
              " 'format': 706,\n",
              " 'worksheet': 16,\n",
              " 'tkinter': 157,\n",
              " 'indeterminate': 3,\n",
              " 'progress': 137,\n",
              " 'bar': 380,\n",
              " 'store': 474,\n",
              " 'image': 1849,\n",
              " 'path': 623,\n",
              " 'jdbc': 164,\n",
              " 'connection': 604,\n",
              " 'associated': 32,\n",
              " 'managed': 43,\n",
              " 'multiple': 2096,\n",
              " 'tables': 214,\n",
              " 'model': 644,\n",
              " 'yii2': 72,\n",
              " 'controller': 694,\n",
              " 'names': 258,\n",
              " 'aspnet': 1506,\n",
              " 'mvc4': 74,\n",
              " 'casting': 99,\n",
              " 'integer': 371,\n",
              " 'array': 3533,\n",
              " 'getting': 1159,\n",
              " 'uploading': 164,\n",
              " 'clear': 148,\n",
              " 'methods': 409,\n",
              " 'printing': 187,\n",
              " 'floats': 28,\n",
              " 'number': 1052,\n",
              " 'zeros': 29,\n",
              " 'simple': 517,\n",
              " 'c': 1550,\n",
              " 'network': 158,\n",
              " 'library': 639,\n",
              " 'usr': 30,\n",
              " 'bin': 44,\n",
              " 'instead': 347,\n",
              " 'local': 414,\n",
              " 'bitmap': 69,\n",
              " 'binary': 323,\n",
              " 'operations': 67,\n",
              " 'default': 591,\n",
              " 'mail': 182,\n",
              " 'working': 1636,\n",
              " 'entity': 525,\n",
              " 'framework': 822,\n",
              " 'distinct': 62,\n",
              " 'extjs': 120,\n",
              " 'checked': 159,\n",
              " 'nodes': 114,\n",
              " 'submit': 380,\n",
              " 'lists': 198,\n",
              " 'element': 1107,\n",
              " 'pass': 840,\n",
              " 'values': 1528,\n",
              " 'html': 1715,\n",
              " 'information': 144,\n",
              " 'dictionary': 386,\n",
              " 'slidetoggle': 6,\n",
              " 'display': 943,\n",
              " 'created': 254,\n",
              " 'opencv': 277,\n",
              " 'android': 1530,\n",
              " 'instantiating': 15,\n",
              " 'namespace': 200,\n",
              " 'wpf': 713,\n",
              " 'screen': 273,\n",
              " 'resolution': 40,\n",
              " 'content': 582,\n",
              " 'static': 539,\n",
              " 'table': 1274,\n",
              " 'cell': 328,\n",
              " 'displayed': 64,\n",
              " 'ios': 763,\n",
              " '9': 52,\n",
              " 'best': 706,\n",
              " 'autocomplete': 127,\n",
              " 'suggest': 8,\n",
              " 'algorithm': 141,\n",
              " 'datastructure': 6,\n",
              " 'backbone': 69,\n",
              " 'modelsave': 7,\n",
              " 'sending': 368,\n",
              " 'put': 243,\n",
              " 'windowlocationreplace': 3,\n",
              " 'redirects': 24,\n",
              " 'given': 304,\n",
              " 'destroies': 1,\n",
              " 'session': 537,\n",
              " 'chrome': 424,\n",
              " 'mvc': 981,\n",
              " 'razor': 115,\n",
              " 'missing': 316,\n",
              " 'collections': 72,\n",
              " 'form': 1776,\n",
              " 'date': 1137,\n",
              " 'ddmmyyyy': 12,\n",
              " 'style': 259,\n",
              " 'dynamically': 691,\n",
              " 'linkbutton': 16,\n",
              " 'affecting': 9,\n",
              " 'others': 29,\n",
              " 'check': 1223,\n",
              " 'point': 214,\n",
              " 'line': 862,\n",
              " 'client': 520,\n",
              " 'request': 787,\n",
              " 'fails': 255,\n",
              " 'timeout': 156,\n",
              " 'simultaneously': 27,\n",
              " 'acquire': 10,\n",
              " 'update': 821,\n",
              " 'graph': 199,\n",
              " 'matplotlib': 230,\n",
              " 'datatable': 326,\n",
              " 'inner': 93,\n",
              " 'join': 224,\n",
              " 'dynamic': 618,\n",
              " 'columns': 376,\n",
              " 'correct': 205,\n",
              " 'realization': 1,\n",
              " 'adapter': 44,\n",
              " 'pattern': 254,\n",
              " 'objective': 196,\n",
              " 'save': 592,\n",
              " 'folder': 381,\n",
              " 'currying': 2,\n",
              " 'datatablesnet': 3,\n",
              " 'ignore': 99,\n",
              " 'rows': 461,\n",
              " 'sorting': 231,\n",
              " 'dom': 219,\n",
              " 'angular': 387,\n",
              " 'directive': 129,\n",
              " 'rectangles': 14,\n",
              " 'next': 204,\n",
              " 'parameters': 515,\n",
              " 'url': 1057,\n",
              " 'zend': 152,\n",
              " 'inheritance': 145,\n",
              " 'access': 1074,\n",
              " 'problem': 522,\n",
              " 'valueerror': 48,\n",
              " '20120719': 1,\n",
              " '082400': 1,\n",
              " 'match': 306,\n",
              " 'ymd': 2,\n",
              " 'hms': 4,\n",
              " 'passing': 635,\n",
              " 'trough': 3,\n",
              " 'sockets': 82,\n",
              " 'child': 375,\n",
              " 'deserializing': 45,\n",
              " 'xml': 1119,\n",
              " 'version': 344,\n",
              " 'application': 1451,\n",
              " 'executable': 79,\n",
              " 'contains': 251,\n",
              " 'unsupported': 49,\n",
              " 'architecture': 62,\n",
              " 'i386': 6,\n",
              " 'com': 81,\n",
              " 'urllib2urlerror': 2,\n",
              " 'urlopen': 8,\n",
              " 'errno': 32,\n",
              " '10061': 5,\n",
              " 'unique': 207,\n",
              " 'combination': 26,\n",
              " 'bind': 228,\n",
              " 'drop': 282,\n",
              " 'first': 636,\n",
              " 'ddl': 9,\n",
              " '31': 63,\n",
              " 'qeurying': 1,\n",
              " 'encrypted': 28,\n",
              " 'attr_encrypted': 1,\n",
              " 'gem': 163,\n",
              " 'clause': 79,\n",
              " 'fields': 363,\n",
              " 'listctrl': 3,\n",
              " 'hack': 12,\n",
              " 'listitems': 2,\n",
              " 'google': 974,\n",
              " 'maps': 312,\n",
              " 'api': 1083,\n",
              " 'generate': 381,\n",
              " 'city': 20,\n",
              " 'state': 167,\n",
              " 'name': 1174,\n",
              " 'mappedby': 4,\n",
              " 'unknown': 171,\n",
              " 'target': 137,\n",
              " 'property': 866,\n",
              " 'applet': 79,\n",
              " 'mac': 225,\n",
              " 'os': 154,\n",
              " '1066': 2,\n",
              " 'latitude': 44,\n",
              " 'longitude': 44,\n",
              " 'mouseout': 9,\n",
              " 'listener': 85,\n",
              " 'wordpress': 303,\n",
              " 'find': 1383,\n",
              " 'row': 769,\n",
              " 'quickly': 29,\n",
              " 'iphone': 452,\n",
              " 'xcodebuild': 2,\n",
              " 'command': 510,\n",
              " 'terminal': 47,\n",
              " 'sapply': 3,\n",
              " 'return': 983,\n",
              " 'matrix': 201,\n",
              " 'need': 407,\n",
              " 'transpose': 12,\n",
              " 'transposed': 1,\n",
              " 'attach': 37,\n",
              " 'dataframe': 262,\n",
              " 'parent': 419,\n",
              " 'programmatically': 353,\n",
              " 'd3': 78,\n",
              " 'js': 632,\n",
              " 'tick': 27,\n",
              " 'spacing': 20,\n",
              " 'gets': 65,\n",
              " 'messed': 7,\n",
              " 'month': 156,\n",
              " 'boundary': 14,\n",
              " 'hash': 205,\n",
              " 'oledbconnection': 4,\n",
              " 'con': 2,\n",
              " 'user': 1120,\n",
              " 'fit': 71,\n",
              " 'needs': 38,\n",
              " 'jsonproperty': 3,\n",
              " 'propertyname': 2,\n",
              " 'somename': 1,\n",
              " 'serializing': 41,\n",
              " 'automatically': 257,\n",
              " 'install': 393,\n",
              " 'toolbarbutton': 1,\n",
              " 'firefox': 227,\n",
              " 'navbar': 25,\n",
              " 'insertitem': 1,\n",
              " 'auto': 238,\n",
              " 'layout': 178,\n",
              " 'constraints': 46,\n",
              " 'interactive': 34,\n",
              " 'interface': 329,\n",
              " 'builder': 63,\n",
              " 'kill': 32,\n",
              " 'process': 377,\n",
              " 'system': 332,\n",
              " 'shell': 119,\n",
              " 'setting': 474,\n",
              " 'timezone': 82,\n",
              " 'cant': 859,\n",
              " 'recent': 19,\n",
              " 'olson': 1,\n",
              " 'facebook': 477,\n",
              " 'help': 261,\n",
              " 'dialog': 262,\n",
              " 'event': 1088,\n",
              " 'load': 912,\n",
              " 'browsers': 88,\n",
              " 'intellij': 118,\n",
              " 'constant': 173,\n",
              " 'expression': 475,\n",
              " 'required': 161,\n",
              " 'case': 196,\n",
              " 'ridviewid': 1,\n",
              " 'dropdown': 384,\n",
              " 'based': 657,\n",
              " 'entries': 63,\n",
              " 'wont': 203,\n",
              " 'work': 931,\n",
              " 'machine': 118,\n",
              " 'pyqt': 51,\n",
              " 'addeventlistener': 11,\n",
              " 'send': 647,\n",
              " 'thread': 597,\n",
              " 'focus': 167,\n",
              " 'listviewitem': 7,\n",
              " 'documentgetelementbyid': 21,\n",
              " 'tableid': 1,\n",
              " 'innerhtml': 46,\n",
              " 'ie8': 92,\n",
              " 'efficient': 155,\n",
              " 'int': 517,\n",
              " 'inverse': 6,\n",
              " 'edit': 202,\n",
              " 'txt': 95,\n",
              " 'conditionally': 27,\n",
              " 'filter': 340,\n",
              " 'iqueryable': 14,\n",
              " 'generic': 335,\n",
              " 'repository': 93,\n",
              " 'invalid': 418,\n",
              " 'indirect': 8,\n",
              " 'decodeindirectref': 1,\n",
              " 'trying': 399,\n",
              " 'record': 185,\n",
              " 'sql': 1001,\n",
              " 'notesnotessession': 1,\n",
              " 'dominonotessession': 1,\n",
              " 'password': 270,\n",
              " 'prompt': 69,\n",
              " 'regex': 628,\n",
              " 'needed': 79,\n",
              " 'play': 181,\n",
              " 'videos': 38,\n",
              " 'website': 336,\n",
              " 'reading': 508,\n",
              " 'stdin': 42,\n",
              " 'blocking': 28,\n",
              " 'video': 308,\n",
              " 'old': 58,\n",
              " 'rest': 317,\n",
              " 'comma': 131,\n",
              " 'separated': 67,\n",
              " 'collection': 350,\n",
              " 'spring': 1019,\n",
              " 'checking': 218,\n",
              " 'member': 274,\n",
              " 'struct': 210,\n",
              " 'gridview': 359,\n",
              " 'export': 156,\n",
              " 'tinymce': 38,\n",
              " 'moxie': 1,\n",
              " 'player': 43,\n",
              " 'media': 54,\n",
              " 'splash': 14,\n",
              " 'propertyplaceholderconfigurerlike': 1,\n",
              " 'accepts': 12,\n",
              " 'csv': 433,\n",
              " 'stringsplit': 11,\n",
              " 'shortened': 2,\n",
              " 'due': 73,\n",
              " 'blank': 116,\n",
              " 'li': 62,\n",
              " 'ngmodel': 17,\n",
              " 'start': 367,\n",
              " 'blackberry': 10,\n",
              " 'programming': 195,\n",
              " 'smloginitemsetenabled': 1,\n",
              " 'counterpart': 2,\n",
              " 'searching': 74,\n",
              " 'sdk': 197,\n",
              " 'quick': 28,\n",
              " 'directory': 504,\n",
              " 'directorynotfoundexception': 2,\n",
              " 'column': 941,\n",
              " 'headings': 2,\n",
              " 'odd': 52,\n",
              " 'even': 203,\n",
              " 'numbers': 449,\n",
              " 'threads': 206,\n",
              " 'alternatives': 34,\n",
              " 'projects': 70,\n",
              " 'similar': 80,\n",
              " 'joomla': 78,\n",
              " 'mambo': 1,\n",
              " 'drupal': 74,\n",
              " 'assign': 169,\n",
              " 'variable': 1542,\n",
              " 'properties': 330,\n",
              " 'accessing': 294,\n",
              " 'global': 272,\n",
              " 'onclicklistener': 11,\n",
              " 'argument': 304,\n",
              " 'uml': 9,\n",
              " 'preg_replace': 44,\n",
              " 'curly': 14,\n",
              " 'brackets': 51,\n",
              " '323': 8,\n",
              " 'bundler': 27,\n",
              " 'could': 439,\n",
              " 'compatible': 33,\n",
              " 'versions': 55,\n",
              " 'railties': 1,\n",
              " 'exe': 85,\n",
              " 'antcreate': 1,\n",
              " 'junit': 127,\n",
              " 'report': 129,\n",
              " 'task': 202,\n",
              " 'facebooks': 7,\n",
              " 'messenger': 4,\n",
              " 'sms': 34,\n",
              " 'broadcast': 19,\n",
              " 'receiver': 11,\n",
              " 'takes': 76,\n",
              " 'highest': 20,\n",
              " 'priority': 28,\n",
              " 'reboot': 5,\n",
              " 'documentgetelementsbyclassname': 2,\n",
              " 'length': 267,\n",
              " '0': 318,\n",
              " 'bypass': 19,\n",
              " 'clientside': 32,\n",
              " 'validation': 501,\n",
              " 'rvm': 67,\n",
              " 'installation': 78,\n",
              " 'ubuntu': 165,\n",
              " '1104': 3,\n",
              " 'trigger': 155,\n",
              " 'carousel': 36,\n",
              " 'socks': 3,\n",
              " 'proxy': 123,\n",
              " 'configuration': 195,\n",
              " 'unable': 491,\n",
              " 'concanate': 1,\n",
              " 'string+variable+string': 1,\n",
              " 'redirecttoaction': 9,\n",
              " 'iterators': 22,\n",
              " 'incompatible': 69,\n",
              " 'destruction': 9,\n",
              " 'dependent': 34,\n",
              " 'constructor': 355,\n",
              " 'parseerror': 4,\n",
              " 'bad': 158,\n",
              " 'symfony2': 147,\n",
              " 'forms': 292,\n",
              " 'options': 138,\n",
              " 'laravel5': 4,\n",
              " 'notfoundhttpexception': 6,\n",
              " 'routecollectionphp': 3,\n",
              " '161': 4,\n",
              " 'submission': 47,\n",
              " 'handling': 258,\n",
              " 'triggers': 17,\n",
              " 'oracle': 167,\n",
              " 'mongoose': 39,\n",
              " 'callback': 237,\n",
              " 'javasecurityinvalidalgorithmparameterexception': 1,\n",
              " 'rc6': 1,\n",
              " 'well': 44,\n",
              " 'rc2': 2,\n",
              " 'updating': 249,\n",
              " 'models': 136,\n",
              " '5': 326,\n",
              " 'canvas': 292,\n",
              " 'issues': 167,\n",
              " 'comparison': 96,\n",
              " 'variables': 694,\n",
              " 'pointing': 19,\n",
              " 'parse': 440,\n",
              " 'possible': 602,\n",
              " 'jump': 24,\n",
              " 'safely': 21,\n",
              " 'destroy': 54,\n",
              " 'window': 720,\n",
              " 'wxpython': 41,\n",
              " 'includes': 43,\n",
              " 'casesensitive': 3,\n",
              " 'systems': 15,\n",
              " 'managepy': 18,\n",
              " 'runserver': 8,\n",
              " 'saving': 236,\n",
              " 'frames': 56,\n",
              " 'waypoints': 2,\n",
              " 'directions_changed': 1,\n",
              " 'compilation': 80,\n",
              " 'found': 584,\n",
              " 'parsecom': 16,\n",
              " 'libgdx': 60,\n",
              " 'implementation': 190,\n",
              " 'iframe': 329,\n",
              " 'position': 319,\n",
              " 'adding': 675,\n",
              " 'calculate': 196,\n",
              " 'correlation': 13,\n",
              " 'remove': 931,\n",
              " 'highly': 4,\n",
              " 'correlated': 2,\n",
              " 'ones': 15,\n",
              " 'pandas': 379,\n",
              " 'optimizations': 6,\n",
              " 'browser': 486,\n",
              " 'perform': 79,\n",
              " 'rendered': 32,\n",
              " 'denied': 122,\n",
              " 'service': 751,\n",
              " 'delegate': 118,\n",
              " 'sbmainworkspace': 1,\n",
              " 'count': 369,\n",
              " 'datagridview': 342,\n",
              " 'scipy': 36,\n",
              " 'build': 333,\n",
              " 'osx': 100,\n",
              " 'ip': 182,\n",
              " 'address': 276,\n",
              " 'mask': 33,\n",
              " 'textbox': 492,\n",
              " 'adodc': 1,\n",
              " 'vbnet': 635,\n",
              " 'commands': 73,\n",
              " 'selected': 493,\n",
              " 'codebehind': 59,\n",
              " 'restrict': 53,\n",
              " 'jqgrid': 114,\n",
              " 'textarea': 151,\n",
              " 'height': 277,\n",
              " 'grid': 231,\n",
              " 'generatorelement': 1,\n",
              " 'sequencetype': 1,\n",
              " 'editor': 82,\n",
              " 'serialization': 115,\n",
              " 'readonlycollections': 1,\n",
              " 'extend': 76,\n",
              " 'exceptions': 159,\n",
              " 'guidelines': 5,\n",
              " 'understand': 41,\n",
              " 'parallelinstances': 1,\n",
              " 'testng': 31,\n",
              " 'suite': 16,\n",
              " 'configure': 127,\n",
              " 'webpage': 118,\n",
              " 'parameter': 648,\n",
              " 'owin': 17,\n",
              " 'host': 110,\n",
              " 'saved': 50,\n",
              " 'rake': 86,\n",
              " 'errors': 281,\n",
              " 'loading': 459,\n",
              " 'kind': 21,\n",
              " 'mutex': 29,\n",
              " 'calculation': 49,\n",
              " 'entities': 118,\n",
              " 'difference': 639,\n",
              " 'cocos2dx': 12,\n",
              " 'lua': 30,\n",
              " 'binding': 328,\n",
              " 'reset': 106,\n",
              " 'dispatchertimer': 3,\n",
              " 'angularjs': 653,\n",
              " 'verify': 53,\n",
              " 'box': 453,\n",
              " 'clicked': 164,\n",
              " 'structure': 238,\n",
              " 'pointer': 359,\n",
              " 'dll': 232,\n",
              " 'pausing': 9,\n",
              " '#': 37,\n",
              " 'milliseconds': 42,\n",
              " 'params': 60,\n",
              " 'requests': 167,\n",
              " 'brace': 3,\n",
              " 'highlighting': 41,\n",
              " 'visual': 611,\n",
              " 'studio': 570,\n",
              " 'email': 401,\n",
              " 'component': 154,\n",
              " 'versus': 43,\n",
              " 'phpmailer': 50,\n",
              " 'cakephp': 172,\n",
              " 'include': 300,\n",
              " 'files': 1249,\n",
              " 'correctly': 218,\n",
              " 'development': 139,\n",
              " 'uiimageview': 65,\n",
              " 'size': 585,\n",
              " 'n': 155,\n",
              " 'stdendl': 4,\n",
              " 'stdcout': 3,\n",
              " 'seperate': 15,\n",
              " 'gc': 21,\n",
              " 'log': 197,\n",
              " 'vm': 25,\n",
              " 'server': 1543,\n",
              " 'fix': 142,\n",
              " 'laravellog': 1,\n",
              " 'opened': 41,\n",
              " 'separate': 130,\n",
              " 'commas': 29,\n",
              " 'basically': 1,\n",
              " 'quotes': 121,\n",
              " 'serversocket': 10,\n",
              " 'port': 168,\n",
              " 'supposed': 13,\n",
              " 'matching': 132,\n",
              " 'reopen': 8,\n",
              " 'expressions': 112,\n",
              " 'void': 95,\n",
              " 'main': 237,\n",
              " 'grouping': 44,\n",
              " 'sort': 340,\n",
              " 'preserving': 23,\n",
              " 'systemconcurrencyasynclock': 1,\n",
              " 'qt': 249,\n",
              " 'mainwindow': 12,\n",
              " 'resize': 184,\n",
              " 'centralwidget': 1,\n",
              " 'resized': 14,\n",
              " 'dispatcher': 21,\n",
              " '00002efd': 1,\n",
              " 'ie': 276,\n",
              " 'href': 108,\n",
              " 'compile': 221,\n",
              " 'single': 469,\n",
              " 'gradle': 75,\n",
              " 'examine': 3,\n",
              " 'code': 1664,\n",
              " 'thats': 18,\n",
              " 'sensitive': 25,\n",
              " 'curl': 248,\n",
              " 'rectangle': 57,\n",
              " 'pygame': 59,\n",
              " 'moves': 8,\n",
              " 'mouse': 213,\n",
              " 'location': 267,\n",
              " 'naming': 45,\n",
              " 'conventions': 17,\n",
              " 'systemwindowsformsiwin32window': 1,\n",
              " 'populate': 163,\n",
              " 'second': 147,\n",
              " 'particle': 2,\n",
              " 'installing': 214,\n",
              " 'sunjava6jre': 1,\n",
              " 'gives': 115,\n",
              " 'render': 148,\n",
              " 'openxml': 10,\n",
              " 'spreadsheet': 40,\n",
              " 'sharedstringtable': 1,\n",
              " 'objectivec': 338,\n",
              " 'commonly': 3,\n",
              " 'used': 261,\n",
              " 'words': 152,\n",
              " 'nsstring': 108,\n",
              " 'generics': 85,\n",
              " 'wildcard': 34,\n",
              " 'define': 147,\n",
              " 'vector': 268,\n",
              " 'undefined': 693,\n",
              " 'switch': 173,\n",
              " 'eval': 59,\n",
              " 'generator': 86,\n",
              " 'services': 142,\n",
              " 'implement': 311,\n",
              " 'ease': 3,\n",
              " 'animation': 190,\n",
              " 'jpa': 193,\n",
              " 'backend': 42,\n",
              " 'changes': 196,\n",
              " 'asynchronously': 38,\n",
              " 'subdomain': 27,\n",
              " 'creation': 72,\n",
              " 'linux': 356,\n",
              " 'preg_match': 49,\n",
              " 'strings': 462,\n",
              " 'open': 723,\n",
              " 'source': 375,\n",
              " 'computation': 6,\n",
              " 'null': 797,\n",
              " 'float': 213,\n",
              " 'jframe': 107,\n",
              " 'basic': 211,\n",
              " 'shapes': 21,\n",
              " 'regular': 296,\n",
              " 'startend': 1,\n",
              " 'detect': 365,\n",
              " 'brightness': 3,\n",
              " 'volume': 20,\n",
              " 'changed': 135,\n",
              " 'horizontal': 64,\n",
              " 'slider': 82,\n",
              " '100': 63,\n",
              " 'width': 265,\n",
              " 'images': 484,\n",
              " 'serial': 97,\n",
              " 'print': 443,\n",
              " 'arduino': 47,\n",
              " 'checkbox': 375,\n",
              " 'outofmemory': 9,\n",
              " 'cvcreatememstorage': 1,\n",
              " 'instance': 443,\n",
              " 'deploy': 102,\n",
              " 'clickonce': 20,\n",
              " 'signing': 8,\n",
              " '2d': 244,\n",
              " 'clickable': 38,\n",
              " 'created_at': 8,\n",
              " 'shopping': 17,\n",
              " 'cart': 42,\n",
              " 'item': 484,\n",
              " 'added': 111,\n",
              " 'compiler': 150,\n",
              " 'oddity': 3,\n",
              " 'declared': 97,\n",
              " 'yet': 23,\n",
              " 'visible': 125,\n",
              " 'replacement': 38,\n",
              " 'cultureinfogetcultures': 1,\n",
              " 'net': 791,\n",
              " 'apps': 132,\n",
              " 'npm': 21,\n",
              " '+': 590,\n",
              " 'mocha': 17,\n",
              " 'watch': 26,\n",
              " 'accurately': 5,\n",
              " 'watching': 6,\n",
              " 'dofilterinternal': 1,\n",
              " 'stl': 99,\n",
              " 'prevents': 9,\n",
              " 'strict': 15,\n",
              " 'superset': 2,\n",
              " 'clock': 22,\n",
              " 'setsystemtime': 1,\n",
              " 'overloading': 52,\n",
              " 'optional': 77,\n",
              " 'tuples': 36,\n",
              " 'statements': 132,\n",
              " 'tomcat7': 6,\n",
              " 'shows': 88,\n",
              " 'inactive': 9,\n",
              " 'users': 213,\n",
              " 'manager': 62,\n",
              " 'backbonejs': 74,\n",
              " 'elements': 627,\n",
              " 'fired': 39,\n",
              " 'views': 151,\n",
              " 'remote': 230,\n",
              " 'notification': 133,\n",
              " 'launch': 45,\n",
              " 'background': 443,\n",
              " 'proper': 100,\n",
              " 'completion': 40,\n",
              " 'vim': 28,\n",
              " 'mobile': 276,\n",
              " 'didnt': 21,\n",
              " 'runtime': 289,\n",
              " 'weird': 54,\n",
              " 'moq': 45,\n",
              " 'nil': 101,\n",
              " 'combine': 94,\n",
              " 'plot': 226,\n",
              " 'read': 940,\n",
              " 'sensor': 2,\n",
              " 'nomethoderror': 24,\n",
              " 'nilnilclass': 19,\n",
              " 'jbutton': 39,\n",
              " 'actionlistener': 19,\n",
              " 'producing': 22,\n",
              " 'several': 71,\n",
              " 'javaawt': 2,\n",
              " 'security': 182,\n",
              " 'catching': 37,\n",
              " 'fullscreen': 30,\n",
              " 'seems': 39,\n",
              " 'parallel': 84,\n",
              " 'prime': 22,\n",
              " 'factorization': 2,\n",
              " 'duplicating': 6,\n",
              " 'script': 819,\n",
              " 'nohup': 1,\n",
              " 'cli': 44,\n",
              " 'tuple': 79,\n",
              " 'yiibootstrap': 1,\n",
              " 'tabs': 105,\n",
              " 'handler': 204,\n",
              " 'examples': 40,\n",
              " 'custom': 1093,\n",
              " 'soft': 11,\n",
              " 'panel': 132,\n",
              " 'windowsce': 5,\n",
              " '60': 19,\n",
              " 'exec': 68,\n",
              " 'status': 143,\n",
              " 'realtime': 36,\n",
              " 'lookup': 48,\n",
              " 'twitter': 186,\n",
              " 'followers': 7,\n",
              " 'looking': 60,\n",
              " 'day': 120,\n",
              " 'calendar': 142,\n",
              " 'three': 61,\n",
              " 'sprite': 31,\n",
              " 'bitmapsave': 4,\n",
              " 'huge': 30,\n",
              " 'leak': 89,\n",
              " 'many': 275,\n",
              " 'relationships': 38,\n",
              " 'taxonomy': 3,\n",
              " 'eloquent': 52,\n",
              " 'write': 571,\n",
              " 'encoding': 197,\n",
              " 'utf8': 184,\n",
              " 'storing': 195,\n",
              " '2dimensional': 12,\n",
              " ...}"
            ]
          },
          "metadata": {
            "tags": []
          },
          "execution_count": 67
        }
      ]
    },
    {
      "metadata": {
        "id": "42vPTjSGXBiC",
        "colab_type": "text"
      },
      "cell_type": "markdown",
      "source": [
        "We are assuming that *tags_counts* and *words_counts* are dictionaries like `{'some_word_or_tag': frequency}`. After applying the sorting procedure, results will be look like this: `[('most_popular_word_or_tag', frequency), ('less_popular_word_or_tag', frequency), ...]`. The grader gets the results in the following format (two comma-separated strings with line break):\n",
        "\n",
        "    tag1,tag2,tag3\n",
        "    word1,word2,word3\n",
        "\n",
        "Pay attention that in this assignment you should not submit frequencies or some additional information."
      ]
    },
    {
      "metadata": {
        "id": "Djf1li4CXBiD",
        "colab_type": "code",
        "colab": {}
      },
      "cell_type": "code",
      "source": [
        "most_common_tags = sorted(tags_counts.items(), key=lambda x: x[1], reverse=True)[:3]\n",
        "most_common_words = sorted(words_counts.items(), key=lambda x: x[1], reverse=True)[:3]\n",
        "\n",
        "grader.submit_tag('WordsTagsCount', '%s\\n%s' % (','.join(tag for tag, _ in most_common_tags), \n",
        "                                                ','.join(word for word, _ in most_common_words)))"
      ],
      "execution_count": 0,
      "outputs": []
    },
    {
      "metadata": {
        "id": "XsP9uE4jXBiH",
        "colab_type": "text"
      },
      "cell_type": "markdown",
      "source": [
        "### Transforming text to a vector\n",
        "\n",
        "Machine Learning algorithms work with numeric data and we cannot use the provided text data \"as is\". There are many ways to transform text data to numeric vectors. In this task you will try to use two of them.\n",
        "\n",
        "#### Bag of words\n",
        "\n",
        "One of the well-known approaches is a *bag-of-words* representation. To create this transformation, follow the steps:\n",
        "1. Find *N* most popular words in train corpus and numerate them. Now we have a dictionary of the most popular words.\n",
        "2. For each title in the corpora create a zero vector with the dimension equals to *N*.\n",
        "3. For each text in the corpora iterate over words which are in the dictionary and increase by 1 the corresponding coordinate.\n",
        "\n",
        "Let's try to do it for a toy example. Imagine that we have *N* = 4 and the list of the most popular words is \n",
        "\n",
        "    ['hi', 'you', 'me', 'are']\n",
        "\n",
        "Then we need to numerate them, for example, like this: \n",
        "\n",
        "    {'hi': 0, 'you': 1, 'me': 2, 'are': 3}\n",
        "\n",
        "And we have the text, which we want to transform to the vector:\n",
        "\n",
        "    'hi how are you'\n",
        "\n",
        "For this text we create a corresponding zero vector \n",
        "\n",
        "    [0, 0, 0, 0]\n",
        "    \n",
        "And iterate over all words, and if the word is in the dictionary, we increase the value of the corresponding position in the vector:\n",
        "\n",
        "    'hi':  [1, 0, 0, 0]\n",
        "    'how': [1, 0, 0, 0] # word 'how' is not in our dictionary\n",
        "    'are': [1, 0, 0, 1]\n",
        "    'you': [1, 1, 0, 1]\n",
        "\n",
        "The resulting vector will be \n",
        "\n",
        "    [1, 1, 0, 1]\n",
        "   \n",
        "Implement the described encoding in the function *my_bag_of_words* with the size of the dictionary equals to 5000. To find the most common words use train data. You can test your code using the function *test_my_bag_of_words*."
      ]
    },
    {
      "metadata": {
        "id": "E5Mr_K2lXBiL",
        "colab_type": "code",
        "colab": {},
        "collapsed": true
      },
      "cell_type": "code",
      "source": [
        "DICT_SIZE = 5000\n",
        "WORDS_TO_INDEX = ####### YOUR CODE HERE #######\n",
        "INDEX_TO_WORDS = ####### YOUR CODE HERE #######\n",
        "ALL_WORDS = WORDS_TO_INDEX.keys()\n",
        "\n",
        "def my_bag_of_words(text, words_to_index, dict_size):\n",
        "    \"\"\"\n",
        "        text: a string\n",
        "        dict_size: size of the dictionary\n",
        "        \n",
        "        return a vector which is a bag-of-words representation of 'text'\n",
        "    \"\"\"\n",
        "    result_vector = np.zeros(dict_size)\n",
        "    ######################################\n",
        "    ######### YOUR CODE HERE #############\n",
        "    ######################################\n",
        "    return result_vector"
      ],
      "execution_count": 0,
      "outputs": []
    },
    {
      "metadata": {
        "id": "f0Xopv92XBiN",
        "colab_type": "code",
        "colab": {},
        "collapsed": true
      },
      "cell_type": "code",
      "source": [
        "def test_my_bag_of_words():\n",
        "    words_to_index = {'hi': 0, 'you': 1, 'me': 2, 'are': 3}\n",
        "    examples = ['hi how are you']\n",
        "    answers = [[1, 1, 0, 1]]\n",
        "    for ex, ans in zip(examples, answers):\n",
        "        if (my_bag_of_words(ex, words_to_index, 4) != ans).any():\n",
        "            return \"Wrong answer for the case: '%s'\" % ex\n",
        "    return 'Basic tests are passed.'"
      ],
      "execution_count": 0,
      "outputs": []
    },
    {
      "metadata": {
        "id": "-BaKNnmYXBiQ",
        "colab_type": "code",
        "colab": {},
        "collapsed": true
      },
      "cell_type": "code",
      "source": [
        "print(test_my_bag_of_words())"
      ],
      "execution_count": 0,
      "outputs": []
    },
    {
      "metadata": {
        "id": "inHLSiwzXBiS",
        "colab_type": "text"
      },
      "cell_type": "markdown",
      "source": [
        "Now apply the implemented function to all samples (this might take up to a minute):"
      ]
    },
    {
      "metadata": {
        "id": "YdxeBIgfXBiS",
        "colab_type": "code",
        "colab": {},
        "collapsed": true
      },
      "cell_type": "code",
      "source": [
        "from scipy import sparse as sp_sparse"
      ],
      "execution_count": 0,
      "outputs": []
    },
    {
      "metadata": {
        "id": "bZAwpYiLXBiU",
        "colab_type": "code",
        "colab": {},
        "collapsed": true
      },
      "cell_type": "code",
      "source": [
        "X_train_mybag = sp_sparse.vstack([sp_sparse.csr_matrix(my_bag_of_words(text, WORDS_TO_INDEX, DICT_SIZE)) for text in X_train])\n",
        "X_val_mybag = sp_sparse.vstack([sp_sparse.csr_matrix(my_bag_of_words(text, WORDS_TO_INDEX, DICT_SIZE)) for text in X_val])\n",
        "X_test_mybag = sp_sparse.vstack([sp_sparse.csr_matrix(my_bag_of_words(text, WORDS_TO_INDEX, DICT_SIZE)) for text in X_test])\n",
        "print('X_train shape ', X_train_mybag.shape)\n",
        "print('X_val shape ', X_val_mybag.shape)\n",
        "print('X_test shape ', X_test_mybag.shape)"
      ],
      "execution_count": 0,
      "outputs": []
    },
    {
      "metadata": {
        "id": "UD34ZRobXBiV",
        "colab_type": "text"
      },
      "cell_type": "markdown",
      "source": [
        "As you might notice, we transform the data to sparse representation, to store the useful information efficiently. There are many [types](https://docs.scipy.org/doc/scipy/reference/sparse.html) of such representations, however sklearn algorithms can work only with [csr](https://docs.scipy.org/doc/scipy/reference/generated/scipy.sparse.csr_matrix.html#scipy.sparse.csr_matrix) matrix, so we will use this one."
      ]
    },
    {
      "metadata": {
        "id": "5DI2z4vJXBiV",
        "colab_type": "text"
      },
      "cell_type": "markdown",
      "source": [
        "**Task 3 (BagOfWords).** For the 11th row in *X_train_mybag* find how many non-zero elements it has. In this task the answer (variable *non_zero_elements_count*) should be a number, e.g. 20."
      ]
    },
    {
      "metadata": {
        "id": "vC5Zu0g-XBiX",
        "colab_type": "code",
        "colab": {},
        "collapsed": true
      },
      "cell_type": "code",
      "source": [
        "row = X_train_mybag[10].toarray()[0]\n",
        "non_zero_elements_count = ####### YOUR CODE HERE #######\n",
        "\n",
        "grader.submit_tag('BagOfWords', str(non_zero_elements_count))"
      ],
      "execution_count": 0,
      "outputs": []
    },
    {
      "metadata": {
        "id": "pahxHSfhXBiZ",
        "colab_type": "text"
      },
      "cell_type": "markdown",
      "source": [
        "#### TF-IDF\n",
        "\n",
        "The second approach extends the bag-of-words framework by taking into account total frequencies of words in the corpora. It helps to penalize too frequent words and provide better features space. \n",
        "\n",
        "Implement function *tfidf_features* using class [TfidfVectorizer](http://scikit-learn.org/stable/modules/generated/sklearn.feature_extraction.text.TfidfVectorizer.html) from *scikit-learn*. Use *train* corpus to train a vectorizer. Don't forget to take a look into the arguments that you can pass to it. We suggest that you filter out too rare words (occur less than in 5 titles) and too frequent words (occur more than in 90% of the titles). Also, use bigrams along with unigrams in your vocabulary. "
      ]
    },
    {
      "metadata": {
        "id": "0kWLwDQbXBiZ",
        "colab_type": "code",
        "colab": {},
        "collapsed": true
      },
      "cell_type": "code",
      "source": [
        "from sklearn.feature_extraction.text import TfidfVectorizer"
      ],
      "execution_count": 0,
      "outputs": []
    },
    {
      "metadata": {
        "id": "Rd2zSqDEXBic",
        "colab_type": "code",
        "colab": {},
        "collapsed": true
      },
      "cell_type": "code",
      "source": [
        "def tfidf_features(X_train, X_val, X_test):\n",
        "    \"\"\"\n",
        "        X_train, X_val, X_test — samples        \n",
        "        return TF-IDF vectorized representation of each sample and vocabulary\n",
        "    \"\"\"\n",
        "    # Create TF-IDF vectorizer with a proper parameters choice\n",
        "    # Fit the vectorizer on the train set\n",
        "    # Transform the train, test, and val sets and return the result\n",
        "    \n",
        "    \n",
        "    tfidf_vectorizer = ####### YOUR CODE HERE #######\n",
        "    \n",
        "    ######################################\n",
        "    ######### YOUR CODE HERE #############\n",
        "    ######################################\n",
        "    \n",
        "    return X_train, X_val, X_test, tfidf_vectorizer.vocabulary_"
      ],
      "execution_count": 0,
      "outputs": []
    },
    {
      "metadata": {
        "id": "nffXtjDOXBid",
        "colab_type": "text"
      },
      "cell_type": "markdown",
      "source": [
        "Once you have done text preprocessing, always have a look at the results. Be very careful at this step, because the performance of future models will drastically depend on it. \n",
        "\n",
        "In this case, check whether you have c++ or c# in your vocabulary, as they are obviously important tokens in our tags prediction task:"
      ]
    },
    {
      "metadata": {
        "id": "eGREn344XBif",
        "colab_type": "code",
        "colab": {},
        "collapsed": true
      },
      "cell_type": "code",
      "source": [
        "X_train_tfidf, X_val_tfidf, X_test_tfidf, tfidf_vocab = tfidf_features(X_train, X_val, X_test)\n",
        "tfidf_reversed_vocab = {i:word for word,i in tfidf_vocab.items()}"
      ],
      "execution_count": 0,
      "outputs": []
    },
    {
      "metadata": {
        "id": "VMXdZB5bXBii",
        "colab_type": "code",
        "colab": {},
        "collapsed": true
      },
      "cell_type": "code",
      "source": [
        "######### YOUR CODE HERE #############"
      ],
      "execution_count": 0,
      "outputs": []
    },
    {
      "metadata": {
        "id": "Takq2IisXBil",
        "colab_type": "text"
      },
      "cell_type": "markdown",
      "source": [
        "If you can't find it, we need to understand how did it happen that we lost them? It happened during the built-in tokenization of TfidfVectorizer. Luckily, we can influence on this process. Get back to the function above and use '(\\S+)' regexp as a *token_pattern* in the constructor of the vectorizer.  "
      ]
    },
    {
      "metadata": {
        "id": "OytAyk-WXBim",
        "colab_type": "text"
      },
      "cell_type": "markdown",
      "source": [
        "Now, use this transormation for the data and check again."
      ]
    },
    {
      "metadata": {
        "id": "m3hb9gJQXBim",
        "colab_type": "code",
        "colab": {},
        "collapsed": true
      },
      "cell_type": "code",
      "source": [
        "######### YOUR CODE HERE #############"
      ],
      "execution_count": 0,
      "outputs": []
    },
    {
      "metadata": {
        "id": "fwQQEwZYXBin",
        "colab_type": "text"
      },
      "cell_type": "markdown",
      "source": [
        "### MultiLabel classifier\n",
        "\n",
        "As we have noticed before, in this task each example can have multiple tags. To deal with such kind of prediction, we need to transform labels in a binary form and the prediction will be a mask of 0s and 1s. For this purpose it is convenient to use [MultiLabelBinarizer](http://scikit-learn.org/stable/modules/generated/sklearn.preprocessing.MultiLabelBinarizer.html) from *sklearn*."
      ]
    },
    {
      "metadata": {
        "id": "DUpKCllZXBio",
        "colab_type": "code",
        "colab": {},
        "collapsed": true
      },
      "cell_type": "code",
      "source": [
        "from sklearn.preprocessing import MultiLabelBinarizer"
      ],
      "execution_count": 0,
      "outputs": []
    },
    {
      "metadata": {
        "id": "AWOQHW4RXBiq",
        "colab_type": "code",
        "colab": {},
        "collapsed": true
      },
      "cell_type": "code",
      "source": [
        "mlb = MultiLabelBinarizer(classes=sorted(tags_counts.keys()))\n",
        "y_train = mlb.fit_transform(y_train)\n",
        "y_val = mlb.fit_transform(y_val)"
      ],
      "execution_count": 0,
      "outputs": []
    },
    {
      "metadata": {
        "id": "QPaXCAJSXBir",
        "colab_type": "text"
      },
      "cell_type": "markdown",
      "source": [
        "Implement the function *train_classifier* for training a classifier. In this task we suggest to use One-vs-Rest approach, which is implemented in [OneVsRestClassifier](http://scikit-learn.org/stable/modules/generated/sklearn.multiclass.OneVsRestClassifier.html) class. In this approach *k* classifiers (= number of tags) are trained. As a basic classifier, use [LogisticRegression](http://scikit-learn.org/stable/modules/generated/sklearn.linear_model.LogisticRegression.html). It is one of the simplest methods, but often it performs good enough in text classification tasks. It might take some time, because a number of classifiers to train is large."
      ]
    },
    {
      "metadata": {
        "id": "NLGSURoNXBis",
        "colab_type": "code",
        "colab": {},
        "collapsed": true
      },
      "cell_type": "code",
      "source": [
        "from sklearn.multiclass import OneVsRestClassifier\n",
        "from sklearn.linear_model import LogisticRegression, RidgeClassifier"
      ],
      "execution_count": 0,
      "outputs": []
    },
    {
      "metadata": {
        "id": "Jkb5clgwXBiu",
        "colab_type": "code",
        "colab": {},
        "collapsed": true
      },
      "cell_type": "code",
      "source": [
        "def train_classifier(X_train, y_train):\n",
        "    \"\"\"\n",
        "      X_train, y_train — training data\n",
        "      \n",
        "      return: trained classifier\n",
        "    \"\"\"\n",
        "    \n",
        "    # Create and fit LogisticRegression wraped into OneVsRestClassifier.\n",
        "\n",
        "    ######################################\n",
        "    ######### YOUR CODE HERE #############\n",
        "    ######################################    "
      ],
      "execution_count": 0,
      "outputs": []
    },
    {
      "metadata": {
        "id": "wZYJHYxEXBix",
        "colab_type": "text"
      },
      "cell_type": "markdown",
      "source": [
        "Train the classifiers for different data transformations: *bag-of-words* and *tf-idf*."
      ]
    },
    {
      "metadata": {
        "id": "l1CI7_LxXBi0",
        "colab_type": "code",
        "colab": {},
        "collapsed": true
      },
      "cell_type": "code",
      "source": [
        "classifier_mybag = train_classifier(X_train_mybag, y_train)\n",
        "classifier_tfidf = train_classifier(X_train_tfidf, y_train)"
      ],
      "execution_count": 0,
      "outputs": []
    },
    {
      "metadata": {
        "id": "RJP-_s_RXBi3",
        "colab_type": "text"
      },
      "cell_type": "markdown",
      "source": [
        "Now you can create predictions for the data. You will need two types of predictions: labels and scores."
      ]
    },
    {
      "metadata": {
        "id": "Y2WANHBcXBi4",
        "colab_type": "code",
        "colab": {},
        "collapsed": true
      },
      "cell_type": "code",
      "source": [
        "y_val_predicted_labels_mybag = classifier_mybag.predict(X_val_mybag)\n",
        "y_val_predicted_scores_mybag = classifier_mybag.decision_function(X_val_mybag)\n",
        "\n",
        "y_val_predicted_labels_tfidf = classifier_tfidf.predict(X_val_tfidf)\n",
        "y_val_predicted_scores_tfidf = classifier_tfidf.decision_function(X_val_tfidf)"
      ],
      "execution_count": 0,
      "outputs": []
    },
    {
      "metadata": {
        "id": "WCn8VU0OXBi8",
        "colab_type": "text"
      },
      "cell_type": "markdown",
      "source": [
        "Now take a look at how classifier, which uses TF-IDF, works for a few examples:"
      ]
    },
    {
      "metadata": {
        "id": "VHcLpd60XBi9",
        "colab_type": "code",
        "colab": {},
        "collapsed": true
      },
      "cell_type": "code",
      "source": [
        "y_val_pred_inversed = mlb.inverse_transform(y_val_predicted_labels_tfidf)\n",
        "y_val_inversed = mlb.inverse_transform(y_val)\n",
        "for i in range(3):\n",
        "    print('Title:\\t{}\\nTrue labels:\\t{}\\nPredicted labels:\\t{}\\n\\n'.format(\n",
        "        X_val[i],\n",
        "        ','.join(y_val_inversed[i]),\n",
        "        ','.join(y_val_pred_inversed[i])\n",
        "    ))"
      ],
      "execution_count": 0,
      "outputs": []
    },
    {
      "metadata": {
        "id": "ksYSElxtXBi_",
        "colab_type": "text"
      },
      "cell_type": "markdown",
      "source": [
        "Now, we would need to compare the results of different predictions, e.g. to see whether TF-IDF transformation helps or to try different regularization techniques in logistic regression. For all these experiments, we need to setup evaluation procedure. "
      ]
    },
    {
      "metadata": {
        "id": "6ucbRblxXBjA",
        "colab_type": "text"
      },
      "cell_type": "markdown",
      "source": [
        "### Evaluation\n",
        "\n",
        "To evaluate the results we will use several classification metrics:\n",
        " - [Accuracy](http://scikit-learn.org/stable/modules/generated/sklearn.metrics.accuracy_score.html)\n",
        " - [F1-score](http://scikit-learn.org/stable/modules/generated/sklearn.metrics.f1_score.html)\n",
        " - [Area under ROC-curve](http://scikit-learn.org/stable/modules/generated/sklearn.metrics.roc_auc_score.html)\n",
        " - [Area under precision-recall curve](http://scikit-learn.org/stable/modules/generated/sklearn.metrics.average_precision_score.html#sklearn.metrics.average_precision_score) \n",
        " \n",
        "Make sure you are familiar with all of them. How would you expect the things work for the multi-label scenario? Read about micro/macro/weighted averaging following the sklearn links provided above."
      ]
    },
    {
      "metadata": {
        "id": "hjbXykbxXBjB",
        "colab_type": "code",
        "colab": {},
        "collapsed": true
      },
      "cell_type": "code",
      "source": [
        "from sklearn.metrics import accuracy_score\n",
        "from sklearn.metrics import f1_score\n",
        "from sklearn.metrics import roc_auc_score \n",
        "from sklearn.metrics import average_precision_score\n",
        "from sklearn.metrics import recall_score"
      ],
      "execution_count": 0,
      "outputs": []
    },
    {
      "metadata": {
        "id": "KFBDcByvXBjC",
        "colab_type": "text"
      },
      "cell_type": "markdown",
      "source": [
        "Implement the function *print_evaluation_scores* which calculates and prints to stdout:\n",
        " - *accuracy*\n",
        " - *F1-score macro/micro/weighted*\n",
        " - *Precision macro/micro/weighted*"
      ]
    },
    {
      "metadata": {
        "id": "fYpqJyCkXBjD",
        "colab_type": "code",
        "colab": {},
        "collapsed": true
      },
      "cell_type": "code",
      "source": [
        "def print_evaluation_scores(y_val, predicted):\n",
        "    \n",
        "    ######################################\n",
        "    ######### YOUR CODE HERE #############\n",
        "    ######################################"
      ],
      "execution_count": 0,
      "outputs": []
    },
    {
      "metadata": {
        "id": "dD6t--NNXBjG",
        "colab_type": "code",
        "colab": {},
        "collapsed": true
      },
      "cell_type": "code",
      "source": [
        "print('Bag-of-words')\n",
        "print_evaluation_scores(y_val, y_val_predicted_labels_mybag)\n",
        "print('Tfidf')\n",
        "print_evaluation_scores(y_val, y_val_predicted_labels_tfidf)"
      ],
      "execution_count": 0,
      "outputs": []
    },
    {
      "metadata": {
        "id": "007Q2SHEXBjH",
        "colab_type": "text"
      },
      "cell_type": "markdown",
      "source": [
        "You might also want to plot some generalization of the [ROC curve](http://scikit-learn.org/stable/modules/model_evaluation.html#receiver-operating-characteristic-roc) for the case of multi-label classification. Provided function *roc_auc* can make it for you. The input parameters of this function are:\n",
        " - true labels\n",
        " - decision functions scores\n",
        " - number of classes"
      ]
    },
    {
      "metadata": {
        "id": "Gai71oeCXBjH",
        "colab_type": "code",
        "colab": {},
        "collapsed": true
      },
      "cell_type": "code",
      "source": [
        "from metrics import roc_auc\n",
        "%matplotlib inline"
      ],
      "execution_count": 0,
      "outputs": []
    },
    {
      "metadata": {
        "id": "r3CEAy_xXBjJ",
        "colab_type": "code",
        "colab": {},
        "collapsed": true
      },
      "cell_type": "code",
      "source": [
        "n_classes = len(tags_counts)\n",
        "roc_auc(y_val, y_val_predicted_scores_mybag, n_classes)"
      ],
      "execution_count": 0,
      "outputs": []
    },
    {
      "metadata": {
        "id": "OjtOoZzTXBjM",
        "colab_type": "code",
        "colab": {},
        "collapsed": true
      },
      "cell_type": "code",
      "source": [
        "n_classes = len(tags_counts)\n",
        "roc_auc(y_val, y_val_predicted_scores_tfidf, n_classes)"
      ],
      "execution_count": 0,
      "outputs": []
    },
    {
      "metadata": {
        "id": "CNNpUrDjXBjO",
        "colab_type": "text"
      },
      "cell_type": "markdown",
      "source": [
        "**Task 4 (MultilabelClassification).** Once we have the evaluation set up, we suggest that you experiment a bit with training your classifiers. We will use *F1-score weighted* as an evaluation metric. Our recommendation:\n",
        "- compare the quality of the bag-of-words and TF-IDF approaches and chose one of them.\n",
        "- for the chosen one, try *L1* and *L2*-regularization techniques in Logistic Regression with different coefficients (e.g. C equal to 0.1, 1, 10, 100).\n",
        "\n",
        "You also could try other improvements of the preprocessing / model, if you want. "
      ]
    },
    {
      "metadata": {
        "id": "rrnc_z4-XBjO",
        "colab_type": "code",
        "colab": {},
        "collapsed": true
      },
      "cell_type": "code",
      "source": [
        "######################################\n",
        "######### YOUR CODE HERE #############\n",
        "######################################"
      ],
      "execution_count": 0,
      "outputs": []
    },
    {
      "metadata": {
        "id": "361KBoR1XBjQ",
        "colab_type": "text"
      },
      "cell_type": "markdown",
      "source": [
        "When you are happy with the quality, create predictions for *test* set, which you will submit to Coursera."
      ]
    },
    {
      "metadata": {
        "id": "K381gwSqXBjR",
        "colab_type": "code",
        "colab": {},
        "collapsed": true
      },
      "cell_type": "code",
      "source": [
        "test_predictions = ######### YOUR CODE HERE #############\n",
        "test_pred_inversed = mlb.inverse_transform(test_predictions)\n",
        "\n",
        "test_predictions_for_submission = '\\n'.join('%i\\t%s' % (i, ','.join(row)) for i, row in enumerate(test_pred_inversed))\n",
        "grader.submit_tag('MultilabelClassification', test_predictions_for_submission)"
      ],
      "execution_count": 0,
      "outputs": []
    },
    {
      "metadata": {
        "id": "WV1pAcuMXBjS",
        "colab_type": "text"
      },
      "cell_type": "markdown",
      "source": [
        "### Analysis of the most important features"
      ]
    },
    {
      "metadata": {
        "id": "vqFZcFbQXBjV",
        "colab_type": "text"
      },
      "cell_type": "markdown",
      "source": [
        "Finally, it is usually a good idea to look at the features (words or n-grams) that are used with the largest weigths in your logistic regression model."
      ]
    },
    {
      "metadata": {
        "id": "Nkio8B0PXBjV",
        "colab_type": "text"
      },
      "cell_type": "markdown",
      "source": [
        "Implement the function *print_words_for_tag* to find them. Get back to sklearn documentation on [OneVsRestClassifier](http://scikit-learn.org/stable/modules/generated/sklearn.multiclass.OneVsRestClassifier.html) and [LogisticRegression](http://scikit-learn.org/stable/modules/generated/sklearn.linear_model.LogisticRegression.html) if needed."
      ]
    },
    {
      "metadata": {
        "id": "7GkFSLi3XBjW",
        "colab_type": "code",
        "colab": {},
        "collapsed": true
      },
      "cell_type": "code",
      "source": [
        "def print_words_for_tag(classifier, tag, tags_classes, index_to_words, all_words):\n",
        "    \"\"\"\n",
        "        classifier: trained classifier\n",
        "        tag: particular tag\n",
        "        tags_classes: a list of classes names from MultiLabelBinarizer\n",
        "        index_to_words: index_to_words transformation\n",
        "        all_words: all words in the dictionary\n",
        "        \n",
        "        return nothing, just print top 5 positive and top 5 negative words for current tag\n",
        "    \"\"\"\n",
        "    print('Tag:\\t{}'.format(tag))\n",
        "    \n",
        "    # Extract an estimator from the classifier for the given tag.\n",
        "    # Extract feature coefficients from the estimator. \n",
        "    \n",
        "    ######################################\n",
        "    ######### YOUR CODE HERE #############\n",
        "    ######################################\n",
        "    \n",
        "    top_positive_words = # top-5 words sorted by the coefficiens.\n",
        "    top_negative_words = # bottom-5 words  sorted by the coefficients.\n",
        "    print('Top positive words:\\t{}'.format(', '.join(top_positive_words)))\n",
        "    print('Top negative words:\\t{}\\n'.format(', '.join(top_negative_words)))"
      ],
      "execution_count": 0,
      "outputs": []
    },
    {
      "metadata": {
        "id": "-jPOFwWsXBja",
        "colab_type": "code",
        "colab": {},
        "collapsed": true
      },
      "cell_type": "code",
      "source": [
        "print_words_for_tag(classifier_tfidf, 'c', mlb.classes, tfidf_reversed_vocab, ALL_WORDS)\n",
        "print_words_for_tag(classifier_tfidf, 'c++', mlb.classes, tfidf_reversed_vocab, ALL_WORDS)\n",
        "print_words_for_tag(classifier_tfidf, 'linux', mlb.classes, tfidf_reversed_vocab, ALL_WORDS)"
      ],
      "execution_count": 0,
      "outputs": []
    },
    {
      "metadata": {
        "id": "It2y6tcAXBjc",
        "colab_type": "text"
      },
      "cell_type": "markdown",
      "source": [
        "### Authorization & Submission\n",
        "To submit assignment parts to Cousera platform, please, enter your e-mail and token into variables below. You can generate token on this programming assignment page. <b>Note:</b> Token expires 30 minutes after generation."
      ]
    },
    {
      "metadata": {
        "id": "O95TCAxrXBjc",
        "colab_type": "code",
        "colab": {}
      },
      "cell_type": "code",
      "source": [
        "grader.status()"
      ],
      "execution_count": 0,
      "outputs": []
    },
    {
      "metadata": {
        "id": "NwC01m45XBje",
        "colab_type": "code",
        "colab": {}
      },
      "cell_type": "code",
      "source": [
        "STUDENT_EMAIL = # EMAIL \n",
        "STUDENT_TOKEN = # TOKEN \n",
        "grader.status()"
      ],
      "execution_count": 0,
      "outputs": []
    },
    {
      "metadata": {
        "id": "31jvSb8vXBjg",
        "colab_type": "text"
      },
      "cell_type": "markdown",
      "source": [
        "If you want to submit these answers, run cell below"
      ]
    },
    {
      "metadata": {
        "id": "KZwx6L56XBjg",
        "colab_type": "code",
        "colab": {}
      },
      "cell_type": "code",
      "source": [
        "grader.submit(STUDENT_EMAIL, STUDENT_TOKEN)"
      ],
      "execution_count": 0,
      "outputs": []
    },
    {
      "metadata": {
        "id": "OZqN3xk3xOkm",
        "colab_type": "code",
        "colab": {}
      },
      "cell_type": "code",
      "source": [
        ""
      ],
      "execution_count": 0,
      "outputs": []
    }
  ]
}